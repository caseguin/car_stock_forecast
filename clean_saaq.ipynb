{
 "cells": [
  {
   "cell_type": "markdown",
   "metadata": {},
   "source": [
    "***\n",
    "# Cleaning cars data\n",
    "***"
   ]
  },
  {
   "cell_type": "code",
   "execution_count": 1,
   "metadata": {},
   "outputs": [],
   "source": [
    "import os\n",
    "import pandas as pd"
   ]
  },
  {
   "cell_type": "code",
   "execution_count": 3,
   "metadata": {},
   "outputs": [
    {
     "name": "stdout",
     "output_type": "stream",
     "text": [
      "c:\\Users\\segch001\\Documents\\GitHub\\ml_car\n"
     ]
    }
   ],
   "source": [
    "cwd = os.getcwd()\n",
    "print(cwd)"
   ]
  },
  {
   "cell_type": "code",
   "execution_count": 4,
   "metadata": {},
   "outputs": [
    {
     "name": "stdout",
     "output_type": "stream",
     "text": [
      "Le dossier « Dataframe » a été créé\n",
      "Le dossier « Output » a été créé\n",
      "Le dossier « Data » a été créé\n"
     ]
    }
   ],
   "source": [
    "# get the program file path\n",
    "cwd = os.getcwd()\n",
    "\n",
    "# Loop to create folders\n",
    "folder_names = ['Dataframe', 'Output', 'Data']\n",
    "\n",
    "folders = {}\n",
    "\n",
    "for folder_name in folder_names:\n",
    "    folders[folder_name] = os.path.join(cwd, folder_name)\n",
    "    \n",
    "    # print(folders)\n",
    "\n",
    "    if not os.path.exists(os.path.join(cwd, folder_name)):\n",
    "        os.makedirs(os.path.join(cwd, folder_name))\n",
    "        print(f'Le dossier « {folder_name} » a été créé')\n",
    "\n",
    "    else:\n",
    "        print(f'Le dossier « {folder_name} » est existant')"
   ]
  },
  {
   "cell_type": "code",
   "execution_count": 5,
   "metadata": {},
   "outputs": [
    {
     "name": "stdout",
     "output_type": "stream",
     "text": [
      "c:\\Users\\segch001\\Documents\\GitHub\\ml_car\\\n",
      "c:\\Users\\segch001\\Documents\\GitHub\\ml_car\\Data\\\n",
      "c:\\Users\\segch001\\Documents\\GitHub\\ml_car\\Dataframe\\\n",
      "c:\\Users\\segch001\\Documents\\GitHub\\ml_car\\Output\\\n"
     ]
    }
   ],
   "source": [
    "# Création des variables de path\n",
    "path_prog =     cwd + '\\\\'\n",
    "path_data =     folders['Data'] + '\\\\'\n",
    "path_df =       folders['Dataframe'] + '\\\\'\n",
    "path_output =   folders['Output'] + '\\\\'\n",
    "\n",
    "# Mettre \\\\ pour éviter les erreurs\n",
    "path_dict = [path_prog, path_data, path_df, path_output]\n",
    "for path in path_dict:\n",
    "    path = path.replace('\\\\','\\\\\\\\')\n",
    "\n",
    "# Détermination de l'année\n",
    "print(path_prog)\n",
    "print(path_data)\n",
    "print(path_df)\n",
    "print(path_output)"
   ]
  },
  {
   "cell_type": "code",
   "execution_count": 37,
   "metadata": {},
   "outputs": [
    {
     "name": "stderr",
     "output_type": "stream",
     "text": [
      "c:\\ProgramData\\Anaconda3\\lib\\site-packages\\pandas\\core\\frame.py:3027: SettingWithCopyWarning: \n",
      "A value is trying to be set on a copy of a slice from a DataFrame\n",
      "\n",
      "See the caveats in the documentation: http://pandas.pydata.org/pandas-docs/stable/indexing.html#indexing-view-versus-copy\n",
      "  return super(DataFrame, self).rename(**kwargs)\n"
     ]
    },
    {
     "data": {
      "text/html": [
       "<div>\n",
       "<style scoped>\n",
       "    .dataframe tbody tr th:only-of-type {\n",
       "        vertical-align: middle;\n",
       "    }\n",
       "\n",
       "    .dataframe tbody tr th {\n",
       "        vertical-align: top;\n",
       "    }\n",
       "\n",
       "    .dataframe thead th {\n",
       "        text-align: right;\n",
       "    }\n",
       "</style>\n",
       "<table border=\"1\" class=\"dataframe\">\n",
       "  <thead>\n",
       "    <tr style=\"text-align: right;\">\n",
       "      <th></th>\n",
       "      <th>vehicle</th>\n",
       "      <th>2000</th>\n",
       "      <th>2001</th>\n",
       "      <th>2002</th>\n",
       "      <th>2003</th>\n",
       "      <th>2004</th>\n",
       "      <th>2005</th>\n",
       "      <th>2006</th>\n",
       "      <th>2007</th>\n",
       "      <th>2008</th>\n",
       "      <th>2009</th>\n",
       "      <th>2010</th>\n",
       "      <th>2011</th>\n",
       "      <th>2012</th>\n",
       "      <th>2013</th>\n",
       "      <th>2014</th>\n",
       "      <th>2015</th>\n",
       "      <th>2016</th>\n",
       "      <th>2017</th>\n",
       "      <th>2018</th>\n",
       "      <th>2019</th>\n",
       "      <th>2020</th>\n",
       "      <th>2021</th>\n",
       "    </tr>\n",
       "  </thead>\n",
       "  <tbody>\n",
       "    <tr>\n",
       "      <th>0</th>\n",
       "      <td>vt</td>\n",
       "      <td>2629106</td>\n",
       "      <td>2678598</td>\n",
       "      <td>2729651</td>\n",
       "      <td>2799402</td>\n",
       "      <td>2847525</td>\n",
       "      <td>2871969</td>\n",
       "      <td>2899086</td>\n",
       "      <td>2932451</td>\n",
       "      <td>2972370</td>\n",
       "      <td>3000245</td>\n",
       "      <td>3015902</td>\n",
       "      <td>3000869</td>\n",
       "      <td>2998490</td>\n",
       "      <td>2997492</td>\n",
       "      <td>2979144</td>\n",
       "      <td>2952378</td>\n",
       "      <td>2924369</td>\n",
       "      <td>2894562</td>\n",
       "      <td>2834054</td>\n",
       "      <td>2776988</td>\n",
       "      <td>2736416</td>\n",
       "      <td>2675434</td>\n",
       "    </tr>\n",
       "    <tr>\n",
       "      <th>1</th>\n",
       "      <td>cl</td>\n",
       "      <td>816997</td>\n",
       "      <td>843160</td>\n",
       "      <td>870812</td>\n",
       "      <td>917540</td>\n",
       "      <td>955337</td>\n",
       "      <td>990193</td>\n",
       "      <td>1035485</td>\n",
       "      <td>1088787</td>\n",
       "      <td>1132018</td>\n",
       "      <td>1201962</td>\n",
       "      <td>1292658</td>\n",
       "      <td>1363975</td>\n",
       "      <td>1430510</td>\n",
       "      <td>1504537</td>\n",
       "      <td>1564001</td>\n",
       "      <td>1644863</td>\n",
       "      <td>1747423</td>\n",
       "      <td>1863266</td>\n",
       "      <td>1945091</td>\n",
       "      <td>2059359</td>\n",
       "      <td>2199562</td>\n",
       "      <td>2318936</td>\n",
       "    </tr>\n",
       "  </tbody>\n",
       "</table>\n",
       "</div>"
      ],
      "text/plain": [
       "  vehicle     2000     2001     2002     2003     2004     2005     2006  \\\n",
       "0      vt  2629106  2678598  2729651  2799402  2847525  2871969  2899086   \n",
       "1      cl   816997   843160   870812   917540   955337   990193  1035485   \n",
       "\n",
       "      2007     2008     2009     2010     2011     2012     2013     2014  \\\n",
       "0  2932451  2972370  3000245  3015902  3000869  2998490  2997492  2979144   \n",
       "1  1088787  1132018  1201962  1292658  1363975  1430510  1504537  1564001   \n",
       "\n",
       "      2015     2016     2017     2018     2019     2020     2021  \n",
       "0  2952378  2924369  2894562  2834054  2776988  2736416  2675434  \n",
       "1  1644863  1747423  1863266  1945091  2059359  2199562  2318936  "
      ]
     },
     "execution_count": 37,
     "metadata": {},
     "output_type": "execute_result"
    }
   ],
   "source": [
    "# Import et nettoyage\n",
    "cars = pd.read_excel(path_data + 'BDSOQ.xlsx', header=4)\n",
    "# Source des données : \n",
    "# https://bdso.gouv.qc.ca/pls/ken/ken213_afich_tabl.page_tabl?p_iden_tran=&p_lang=&p_m_o=SAAQ&p_id_ss_domn=718&p_id_raprt=3372#tri_age=1&tri_tertr=0\n",
    "\n",
    "cars_ld = cars.loc[3:4]\n",
    "pd.set_option('display.max_columns', None)\n",
    "cars_ld.rename(columns={cars_ld.columns[0]: 'vehicle'}, inplace=True)\n",
    "cars_ld = cars_ld.reset_index(drop=True)\n",
    "\n",
    "replacements = {0: 'vt', 1: 'cl'}\n",
    "for index, value in replacements.items():\n",
    "    cars_ld.at[index, 'vehicle'] = value\n",
    "\n",
    "cars_ld"
   ]
  },
  {
   "cell_type": "code",
   "execution_count": 38,
   "metadata": {},
   "outputs": [
    {
     "ename": "SyntaxError",
     "evalue": "invalid syntax (<ipython-input-38-124792be6c29>, line 10)",
     "output_type": "error",
     "traceback": [
      "\u001b[1;36m  File \u001b[1;32m\"<ipython-input-38-124792be6c29>\"\u001b[1;36m, line \u001b[1;32m10\u001b[0m\n\u001b[1;33m    Consommation des ménages historique\u001b[0m\n\u001b[1;37m                   ^\u001b[0m\n\u001b[1;31mSyntaxError\u001b[0m\u001b[1;31m:\u001b[0m invalid syntax\n"
     ]
    }
   ],
   "source": [
    "# Population historique Québec\n",
    "# https://statistique.quebec.ca/fr/produit/tableau/estimation-de-la-population-du-quebec\n",
    "\n",
    "# Projection démographique\n",
    "# https://statistique.quebec.ca/docs-ken/vitrine/vieillissement/index.html?theme=population&tab=1\n",
    "\n",
    "# PIB historique\n",
    "# https://chairemacro.esg.uqam.ca/donnees/base-de-donnees-canadiennes/\n",
    "\n",
    "# Consommation des ménages historique\n",
    "# Voir fichier Excel"
   ]
  }
 ],
 "metadata": {
  "kernelspec": {
   "display_name": "base",
   "language": "python",
   "name": "python3"
  },
  "language_info": {
   "codemirror_mode": {
    "name": "ipython",
    "version": 3
   },
   "file_extension": ".py",
   "mimetype": "text/x-python",
   "name": "python",
   "nbconvert_exporter": "python",
   "pygments_lexer": "ipython3",
   "version": "3.6.4"
  },
  "orig_nbformat": 4
 },
 "nbformat": 4,
 "nbformat_minor": 2
}
